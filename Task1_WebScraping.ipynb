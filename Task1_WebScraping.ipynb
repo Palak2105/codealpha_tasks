{
 "cells": [
  {
   "cell_type": "code",
   "execution_count": 1,
   "id": "2c899cb0-976a-4592-8602-271f3a541c98",
   "metadata": {},
   "outputs": [
    {
     "name": "stdout",
     "output_type": "stream",
     "text": [
      "Hello, Palak!\n"
     ]
    }
   ],
   "source": [
    "print(\"Hello, Palak!\")\n"
   ]
  },
  {
   "cell_type": "code",
   "execution_count": 2,
   "id": "c018fbea-1caf-4710-a7fa-6aa74d6a6859",
   "metadata": {},
   "outputs": [
    {
     "name": "stdout",
     "output_type": "stream",
     "text": [
      "Requirement already satisfied: requests in c:\\users\\palak\\anaconda3\\envs\\anacondapython\\lib\\site-packages (2.32.4)\n",
      "Requirement already satisfied: beautifulsoup4 in c:\\users\\palak\\anaconda3\\envs\\anacondapython\\lib\\site-packages (4.13.4)\n",
      "Requirement already satisfied: pandas in c:\\users\\palak\\anaconda3\\envs\\anacondapython\\lib\\site-packages (2.3.1)\n",
      "Requirement already satisfied: charset_normalizer<4,>=2 in c:\\users\\palak\\anaconda3\\envs\\anacondapython\\lib\\site-packages (from requests) (3.3.2)\n",
      "Requirement already satisfied: idna<4,>=2.5 in c:\\users\\palak\\anaconda3\\envs\\anacondapython\\lib\\site-packages (from requests) (3.7)\n",
      "Requirement already satisfied: urllib3<3,>=1.21.1 in c:\\users\\palak\\anaconda3\\envs\\anacondapython\\lib\\site-packages (from requests) (2.5.0)\n",
      "Requirement already satisfied: certifi>=2017.4.17 in c:\\users\\palak\\anaconda3\\envs\\anacondapython\\lib\\site-packages (from requests) (2025.7.14)\n",
      "Requirement already satisfied: soupsieve>1.2 in c:\\users\\palak\\anaconda3\\envs\\anacondapython\\lib\\site-packages (from beautifulsoup4) (2.5)\n",
      "Requirement already satisfied: typing-extensions>=4.0.0 in c:\\users\\palak\\anaconda3\\envs\\anacondapython\\lib\\site-packages (from beautifulsoup4) (4.12.2)\n",
      "Requirement already satisfied: numpy>=1.26.0 in c:\\users\\palak\\anaconda3\\envs\\anacondapython\\lib\\site-packages (from pandas) (2.3.1)\n",
      "Requirement already satisfied: python-dateutil>=2.8.2 in c:\\users\\palak\\anaconda3\\envs\\anacondapython\\lib\\site-packages (from pandas) (2.9.0.post0)\n",
      "Requirement already satisfied: pytz>=2020.1 in c:\\users\\palak\\anaconda3\\envs\\anacondapython\\lib\\site-packages (from pandas) (2025.2)\n",
      "Requirement already satisfied: tzdata>=2022.7 in c:\\users\\palak\\anaconda3\\envs\\anacondapython\\lib\\site-packages (from pandas) (2025.2)\n",
      "Requirement already satisfied: six>=1.5 in c:\\users\\palak\\anaconda3\\envs\\anacondapython\\lib\\site-packages (from python-dateutil>=2.8.2->pandas) (1.17.0)\n"
     ]
    }
   ],
   "source": [
    "!pip install requests beautifulsoup4 pandas\n"
   ]
  },
  {
   "cell_type": "code",
   "execution_count": 3,
   "id": "47f719d0-a8ae-4a47-a0f0-3066d273c4ed",
   "metadata": {},
   "outputs": [
    {
     "name": "stdout",
     "output_type": "stream",
     "text": [
      "Libraries imported successfully!\n"
     ]
    }
   ],
   "source": [
    "import requests\n",
    "from bs4 import BeautifulSoup\n",
    "import pandas as pd\n",
    "\n",
    "print(\"Libraries imported successfully!\")\n"
   ]
  },
  {
   "cell_type": "code",
   "execution_count": 4,
   "id": "39d2a47a-d1a9-4c27-96c0-d80e9fd3df72",
   "metadata": {},
   "outputs": [
    {
     "name": "stdout",
     "output_type": "stream",
     "text": [
      "200\n"
     ]
    }
   ],
   "source": [
    "url = \"https://books.toscrape.com/catalogue/page-1.html\"\n",
    "response = requests.get(url)\n",
    "print(response.status_code)\n"
   ]
  },
  {
   "cell_type": "code",
   "execution_count": 5,
   "id": "3b93d069-63b7-4fa4-9a68-06ecde0f1e5b",
   "metadata": {},
   "outputs": [
    {
     "name": "stdout",
     "output_type": "stream",
     "text": [
      "Number of books found on page 1: 20\n"
     ]
    }
   ],
   "source": [
    "soup = BeautifulSoup(response.text, \"html.parser\")\n",
    "books = soup.find_all('article', class_='product_pod')\n",
    "print(\"Number of books found on page 1:\", len(books))\n"
   ]
  },
  {
   "cell_type": "code",
   "execution_count": 6,
   "id": "2a6da1f5-45e2-46b2-9153-a41ec40c8cf1",
   "metadata": {},
   "outputs": [
    {
     "name": "stdout",
     "output_type": "stream",
     "text": [
      "<article class=\"product_pod\">\n",
      " <div class=\"image_container\">\n",
      "  <a href=\"a-light-in-the-attic_1000/index.html\">\n",
      "   <img alt=\"A Light in the Attic\" class=\"thumbnail\" src=\"../media/cache/2c/da/2cdad67c44b002e7ead0cc35693c0e8b.jpg\"/>\n",
      "  </a>\n",
      " </div>\n",
      " <p class=\"star-rating Three\">\n",
      "  <i class=\"icon-star\">\n",
      "  </i>\n",
      "  <i class=\"icon-star\">\n",
      "  </i>\n",
      "  <i class=\"icon-star\">\n",
      "  </i>\n",
      "  <i class=\"icon-star\">\n",
      "  </i>\n",
      "  <i class=\"icon-star\">\n",
      "  </i>\n",
      " </p>\n",
      " <h3>\n",
      "  <a href=\"a-light-in-the-attic_1000/index.html\" title=\"A Light in the Attic\">\n",
      "   A Light in the ...\n",
      "  </a>\n",
      " </h3>\n",
      " <div class=\"product_price\">\n",
      "  <p class=\"price_color\">\n",
      "   Â£51.77\n",
      "  </p>\n",
      "  <p class=\"instock availability\">\n",
      "   <i class=\"icon-ok\">\n",
      "   </i>\n",
      "   In stock\n",
      "  </p>\n",
      "  <form>\n",
      "   <button class=\"btn btn-primary btn-block\" data-loading-text=\"Adding...\" type=\"submit\">\n",
      "    Add to basket\n",
      "   </button>\n",
      "  </form>\n",
      " </div>\n",
      "</article>\n",
      "\n"
     ]
    }
   ],
   "source": [
    "first_book = books[0]\n",
    "print(first_book.prettify())\n"
   ]
  },
  {
   "cell_type": "code",
   "execution_count": 7,
   "id": "80996dea-e615-44cd-988e-54f7878a7906",
   "metadata": {},
   "outputs": [
    {
     "name": "stdout",
     "output_type": "stream",
     "text": [
      "Title: A Light in the Attic\n",
      "Price: Â£51.77\n",
      "Rating (word): Three\n"
     ]
    }
   ],
   "source": [
    "title = first_book.h3.a['title']\n",
    "price = first_book.find('p', class_='price_color').text\n",
    "rating_class = first_book.find('p', class_='star-rating')['class'][1]\n",
    "\n",
    "print(\"Title:\", title)\n",
    "print(\"Price:\", price)\n",
    "print(\"Rating (word):\", rating_class)\n"
   ]
  },
  {
   "cell_type": "code",
   "execution_count": 8,
   "id": "a93d7d52-9f81-4092-ab02-c944f6dbb128",
   "metadata": {},
   "outputs": [],
   "source": [
    "rating_map = {\"One\": 1, \"Two\": 2, \"Three\": 3, \"Four\": 4, \"Five\": 5}\n",
    "\n",
    "def extract_book_info(book_tag):\n",
    "    title = book_tag.h3.a['title']\n",
    "    price_text = book_tag.find('p', class_='price_color').text.strip()\n",
    "    price_text = price_text.replace('£', '').replace('Â', '')\n",
    "    price = float(price_text)\n",
    "    rating_word = book_tag.find('p', class_='star-rating')['class'][1]\n",
    "    rating = rating_map.get(rating_word)\n",
    "    return {\"title\": title, \"price\": price, \"rating\": rating}\n"
   ]
  },
  {
   "cell_type": "code",
   "execution_count": 9,
   "id": "7f0ca508-f740-4fab-bf93-8c3e86719f00",
   "metadata": {},
   "outputs": [],
   "source": [
    "page_data = [extract_book_info(book) for book in books]\n"
   ]
  },
  {
   "cell_type": "code",
   "execution_count": 10,
   "id": "cbb1a03d-8eff-48b9-979b-6dfaba9943d6",
   "metadata": {},
   "outputs": [
    {
     "data": {
      "text/html": [
       "<div>\n",
       "<style scoped>\n",
       "    .dataframe tbody tr th:only-of-type {\n",
       "        vertical-align: middle;\n",
       "    }\n",
       "\n",
       "    .dataframe tbody tr th {\n",
       "        vertical-align: top;\n",
       "    }\n",
       "\n",
       "    .dataframe thead th {\n",
       "        text-align: right;\n",
       "    }\n",
       "</style>\n",
       "<table border=\"1\" class=\"dataframe\">\n",
       "  <thead>\n",
       "    <tr style=\"text-align: right;\">\n",
       "      <th></th>\n",
       "      <th>title</th>\n",
       "      <th>price</th>\n",
       "      <th>rating</th>\n",
       "    </tr>\n",
       "  </thead>\n",
       "  <tbody>\n",
       "    <tr>\n",
       "      <th>0</th>\n",
       "      <td>A Light in the Attic</td>\n",
       "      <td>51.77</td>\n",
       "      <td>3</td>\n",
       "    </tr>\n",
       "    <tr>\n",
       "      <th>1</th>\n",
       "      <td>Tipping the Velvet</td>\n",
       "      <td>53.74</td>\n",
       "      <td>1</td>\n",
       "    </tr>\n",
       "    <tr>\n",
       "      <th>2</th>\n",
       "      <td>Soumission</td>\n",
       "      <td>50.10</td>\n",
       "      <td>1</td>\n",
       "    </tr>\n",
       "    <tr>\n",
       "      <th>3</th>\n",
       "      <td>Sharp Objects</td>\n",
       "      <td>47.82</td>\n",
       "      <td>4</td>\n",
       "    </tr>\n",
       "    <tr>\n",
       "      <th>4</th>\n",
       "      <td>Sapiens: A Brief History of Humankind</td>\n",
       "      <td>54.23</td>\n",
       "      <td>5</td>\n",
       "    </tr>\n",
       "  </tbody>\n",
       "</table>\n",
       "</div>"
      ],
      "text/plain": [
       "                                   title  price  rating\n",
       "0                   A Light in the Attic  51.77       3\n",
       "1                     Tipping the Velvet  53.74       1\n",
       "2                             Soumission  50.10       1\n",
       "3                          Sharp Objects  47.82       4\n",
       "4  Sapiens: A Brief History of Humankind  54.23       5"
      ]
     },
     "execution_count": 10,
     "metadata": {},
     "output_type": "execute_result"
    }
   ],
   "source": [
    "df_page1 = pd.DataFrame(page_data)\n",
    "df_page1.head()\n"
   ]
  },
  {
   "cell_type": "code",
   "execution_count": 11,
   "id": "f54edf3f-ba1c-4126-9229-144428f6a536",
   "metadata": {},
   "outputs": [
    {
     "name": "stdout",
     "output_type": "stream",
     "text": [
      "Page 1 done, total books: 20\n",
      "Page 2 done, total books: 40\n",
      "Page 3 done, total books: 60\n",
      "Page 4 done, total books: 80\n",
      "Page 5 done, total books: 100\n",
      "Page 6 done, total books: 120\n",
      "Page 7 done, total books: 140\n",
      "Page 8 done, total books: 160\n",
      "Page 9 done, total books: 180\n",
      "Page 10 done, total books: 200\n",
      "Page 11 done, total books: 220\n",
      "Page 12 done, total books: 240\n",
      "Page 13 done, total books: 260\n",
      "Page 14 done, total books: 280\n",
      "Page 15 done, total books: 300\n",
      "Page 16 done, total books: 320\n",
      "Page 17 done, total books: 340\n",
      "Page 18 done, total books: 360\n",
      "Page 19 done, total books: 380\n",
      "Page 20 done, total books: 400\n",
      "Page 21 done, total books: 420\n",
      "Page 22 done, total books: 440\n",
      "Page 23 done, total books: 460\n",
      "Page 24 done, total books: 480\n",
      "Page 25 done, total books: 500\n",
      "Page 26 done, total books: 520\n",
      "Page 27 done, total books: 540\n",
      "Page 28 done, total books: 560\n",
      "Page 29 done, total books: 580\n",
      "Page 30 done, total books: 600\n",
      "Page 31 done, total books: 620\n",
      "Page 32 done, total books: 640\n",
      "Page 33 done, total books: 660\n",
      "Page 34 done, total books: 680\n",
      "Page 35 done, total books: 700\n",
      "Page 36 done, total books: 720\n",
      "Page 37 done, total books: 740\n",
      "Page 38 done, total books: 760\n",
      "Page 39 done, total books: 780\n",
      "Page 40 done, total books: 800\n",
      "Page 41 done, total books: 820\n",
      "Page 42 done, total books: 840\n",
      "Page 43 done, total books: 860\n",
      "Page 44 done, total books: 880\n",
      "Page 45 done, total books: 900\n",
      "Page 46 done, total books: 920\n",
      "Page 47 done, total books: 940\n",
      "Page 48 done, total books: 960\n",
      "Page 49 done, total books: 980\n",
      "Page 50 done, total books: 1000\n"
     ]
    }
   ],
   "source": [
    "all_books = []\n",
    "base_url = \"https://books.toscrape.com/catalogue/page-{}.html\"\n",
    "\n",
    "for page_num in range(1, 51):\n",
    "    url = base_url.format(page_num)\n",
    "    response = requests.get(url)\n",
    "    soup = BeautifulSoup(response.text, \"html.parser\")\n",
    "    books = soup.find_all('article', class_='product_pod')\n",
    "    for b in books:\n",
    "        all_books.append(extract_book_info(b))\n",
    "    print(f\"Page {page_num} done, total books: {len(all_books)}\")\n"
   ]
  },
  {
   "cell_type": "code",
   "execution_count": 12,
   "id": "d4553a86-312a-47e3-8654-11f98d87792d",
   "metadata": {},
   "outputs": [
    {
     "data": {
      "text/html": [
       "<div>\n",
       "<style scoped>\n",
       "    .dataframe tbody tr th:only-of-type {\n",
       "        vertical-align: middle;\n",
       "    }\n",
       "\n",
       "    .dataframe tbody tr th {\n",
       "        vertical-align: top;\n",
       "    }\n",
       "\n",
       "    .dataframe thead th {\n",
       "        text-align: right;\n",
       "    }\n",
       "</style>\n",
       "<table border=\"1\" class=\"dataframe\">\n",
       "  <thead>\n",
       "    <tr style=\"text-align: right;\">\n",
       "      <th></th>\n",
       "      <th>title</th>\n",
       "      <th>price</th>\n",
       "      <th>rating</th>\n",
       "    </tr>\n",
       "  </thead>\n",
       "  <tbody>\n",
       "    <tr>\n",
       "      <th>0</th>\n",
       "      <td>A Light in the Attic</td>\n",
       "      <td>51.77</td>\n",
       "      <td>3</td>\n",
       "    </tr>\n",
       "    <tr>\n",
       "      <th>1</th>\n",
       "      <td>Tipping the Velvet</td>\n",
       "      <td>53.74</td>\n",
       "      <td>1</td>\n",
       "    </tr>\n",
       "    <tr>\n",
       "      <th>2</th>\n",
       "      <td>Soumission</td>\n",
       "      <td>50.10</td>\n",
       "      <td>1</td>\n",
       "    </tr>\n",
       "    <tr>\n",
       "      <th>3</th>\n",
       "      <td>Sharp Objects</td>\n",
       "      <td>47.82</td>\n",
       "      <td>4</td>\n",
       "    </tr>\n",
       "    <tr>\n",
       "      <th>4</th>\n",
       "      <td>Sapiens: A Brief History of Humankind</td>\n",
       "      <td>54.23</td>\n",
       "      <td>5</td>\n",
       "    </tr>\n",
       "  </tbody>\n",
       "</table>\n",
       "</div>"
      ],
      "text/plain": [
       "                                   title  price  rating\n",
       "0                   A Light in the Attic  51.77       3\n",
       "1                     Tipping the Velvet  53.74       1\n",
       "2                             Soumission  50.10       1\n",
       "3                          Sharp Objects  47.82       4\n",
       "4  Sapiens: A Brief History of Humankind  54.23       5"
      ]
     },
     "execution_count": 12,
     "metadata": {},
     "output_type": "execute_result"
    }
   ],
   "source": [
    "df_all = pd.DataFrame(all_books)\n",
    "df_all.to_csv(\"books_data.csv\", index=False)\n",
    "df_all.head()\n"
   ]
  },
  {
   "cell_type": "code",
   "execution_count": null,
   "id": "226d4568-7a01-42c7-b59c-e979e4e27dfe",
   "metadata": {},
   "outputs": [],
   "source": []
  }
 ],
 "metadata": {
  "kernelspec": {
   "display_name": "Python 3 (ipykernel)",
   "language": "python",
   "name": "python3"
  },
  "language_info": {
   "codemirror_mode": {
    "name": "ipython",
    "version": 3
   },
   "file_extension": ".py",
   "mimetype": "text/x-python",
   "name": "python",
   "nbconvert_exporter": "python",
   "pygments_lexer": "ipython3",
   "version": "3.13.5"
  }
 },
 "nbformat": 4,
 "nbformat_minor": 5
}
